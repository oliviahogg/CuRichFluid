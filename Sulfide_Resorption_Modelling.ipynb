{
 "cells": [
  {
   "cell_type": "markdown",
   "metadata": {},
   "source": [
    "# Load Libraries"
   ]
  },
  {
   "cell_type": "code",
   "execution_count": 18,
   "metadata": {},
   "outputs": [],
   "source": [
    "import numpy as np\n",
    "import matplotlib.pyplot as plt\n",
    "import pandas as pd\n",
    "from matplotlib.cm import get_cmap\n",
    "from cmcrameri import cm"
   ]
  },
  {
   "cell_type": "markdown",
   "metadata": {},
   "source": [
    "This notebook includes calculations to show that water-rich mafic magmas can assimilate relatively high masses of sulfides, adding S and Cu to the melt and exsolving hydrous fluids. "
   ]
  },
  {
   "cell_type": "code",
   "execution_count": 19,
   "metadata": {},
   "outputs": [],
   "source": [
    "# Import modelled dataframe output in script (Sulfide saturation and degassing model - Jan 2024.ipynb)\n",
    "buff = pd.read_csv('before_degassing_sulfsat.csv')"
   ]
  },
  {
   "cell_type": "code",
   "execution_count": 20,
   "metadata": {},
   "outputs": [
    {
     "data": {
      "text/plain": [
       "array(['P_10000.0_H2O_0.1_QFM1.2', 'P_10000.0_H2O_0.0_QFM1.2',\n",
       "       'P_10000.0_H2O_6.0_QFM1.2', 'P_10000.0_H2O_3.0_QFM1.2',\n",
       "       'P_10000.0_H2O_1.0_QFM1.2', 'P_8000.0_H2O_0.0_QFM1.2',\n",
       "       'P_8000.0_H2O_6.0_QFM1.2', 'P_8000.0_H2O_3.0_QFM1.2',\n",
       "       'P_8000.0_H2O_0.1_QFM1.2', 'P_8000.0_H2O_1.0_QFM1.2',\n",
       "       'P_4000.0_H2O_0.0_QFM1.2', 'P_4000.0_H2O_6.0_QFM1.2',\n",
       "       'P_4000.0_H2O_3.0_QFM1.2', 'P_4000.0_H2O_1.0_QFM1.2',\n",
       "       'P_4000.0_H2O_0.1_QFM1.2', 'P_2000.0_H2O_3.0_QFM1.2',\n",
       "       'P_2000.0_H2O_0.0_QFM1.2', 'P_2000.0_H2O_6.0_QFM1.2',\n",
       "       'P_2000.0_H2O_1.0_QFM1.2', 'P_2000.0_H2O_0.1_QFM1.2',\n",
       "       'P_1000.0_H2O_0.0_QFM1.2', 'P_1000.0_H2O_3.0_QFM1.2',\n",
       "       'P_1000.0_H2O_1.0_QFM1.2', 'P_1000.0_H2O_6.0_QFM1.2',\n",
       "       'P_500.0_H2O_0.0_QFM1.2', 'P_500.0_H2O_6.0_QFM1.2',\n",
       "       'P_500.0_H2O_3.0_QFM1.2', 'P_500.0_H2O_1.0_QFM1.2'], dtype=object)"
      ]
     },
     "execution_count": 20,
     "metadata": {},
     "output_type": "execute_result"
    }
   ],
   "source": [
    "# print unique model runs - i.e. each run for a given pressure-H2O-QFM combination:\n",
    "buff['unique'].unique()"
   ]
  },
  {
   "cell_type": "code",
   "execution_count": 21,
   "metadata": {},
   "outputs": [],
   "source": [
    "# slice our modelled dataframe for MAFIC - SULFIDE UNDERSATURATED - SHALLOW - WATER-RICH MAGMAS\n",
    "# slice according to the 'unique' column of the dataframe to find a shallow and water-rich model\n",
    "# slice according to the 'SiO2_Liq' column of the dataframe to find mafic compositions only\n",
    "# e.g.:\n",
    "test_data_1 = buff[(buff['unique'].isin(['P_1000.0_H2O_6.0_QFM1.2'])) &  (buff['SiO2_Liq'] < 60)]"
   ]
  },
  {
   "cell_type": "code",
   "execution_count": 22,
   "metadata": {},
   "outputs": [
    {
     "data": {
      "text/plain": [
       "(50, 405)"
      ]
     },
     "execution_count": 22,
     "metadata": {},
     "output_type": "execute_result"
    }
   ],
   "source": [
    "test_data_1.shape"
   ]
  },
  {
   "cell_type": "code",
   "execution_count": 23,
   "metadata": {},
   "outputs": [],
   "source": [
    "# melt fraction intervals to track fractional crystallisation evolution of the melt\n",
    "targets = [1, 0.9, 0.8, 0.7, 0.6] \n",
    "\n",
    "# Find the index of the closest value to each target\n",
    "closest_indices = [((test_data_1['melt_f'] - target).abs()).idxmin() for target in targets]\n",
    "\n",
    "# Select the rows based on the closest indices and reset the index\n",
    "syst_mass = test_data_1.loc[closest_indices].reset_index(drop=True)\n",
    "\n",
    "# Add the 'targets' column\n",
    "syst_mass['targets'] = [targets[((syst_mass['melt_f'] - target).abs()).idxmin()] for target in targets]\n"
   ]
  },
  {
   "cell_type": "code",
   "execution_count": 24,
   "metadata": {
    "scrolled": true
   },
   "outputs": [
    {
     "data": {
      "text/plain": [
       "0    47.481633\n",
       "1    48.332350\n",
       "2    49.804222\n",
       "3    50.868422\n",
       "4    52.591568\n",
       "Name: SiO2_Liq, dtype: float64"
      ]
     },
     "execution_count": 24,
     "metadata": {},
     "output_type": "execute_result"
    }
   ],
   "source": [
    "syst_mass['SiO2_Liq']"
   ]
  },
  {
   "cell_type": "markdown",
   "metadata": {},
   "source": [
    "## Calculating the mass of S and Cu added to the melt per 0.1 g of sulfide (CuFeS2)."
   ]
  },
  {
   "cell_type": "code",
   "execution_count": 25,
   "metadata": {},
   "outputs": [
    {
     "data": {
      "text/plain": [
       "(0.03494606080418438, 0.03462460499073772)"
      ]
     },
     "execution_count": 25,
     "metadata": {},
     "output_type": "execute_result"
    }
   ],
   "source": [
    "# stoichiometric calcs of CuFeS2\n",
    "\n",
    "CuFeS2_gmol = 183.54\n",
    "Cu_gmol = 63.55\n",
    "Fe_gmol = 55.85\n",
    "S_gmol = 32.07\n",
    "\n",
    "CuFeS2_g = 0.1 # change depending on the mass of sulfide you wish to add\n",
    "\n",
    "CuFeS2_mol = CuFeS2_g / CuFeS2_gmol\n",
    "\n",
    "Cu_mol = CuFeS2_mol\n",
    "S_mol = 2 * CuFeS2_mol\n",
    "\n",
    "Cu_g = Cu_gmol * Cu_mol\n",
    "S_g = S_gmol * S_mol\n",
    "\n",
    "S_g, Cu_g"
   ]
  },
  {
   "cell_type": "markdown",
   "metadata": {},
   "source": [
    "##  Modelling Cl and S degassing"
   ]
  },
  {
   "cell_type": "code",
   "execution_count": 26,
   "metadata": {
    "scrolled": true
   },
   "outputs": [
    {
     "name": "stdout",
     "output_type": "stream",
     "text": [
      "S 1000\n",
      "0    1.0\n",
      "1    1.0\n",
      "2    1.0\n",
      "3    1.0\n",
      "4    1.0\n",
      "dtype: float64\n",
      "Cl 1000\n",
      "0    1.0\n",
      "1    1.0\n",
      "2    1.0\n",
      "3    1.0\n",
      "4    1.0\n",
      "dtype: float64\n"
     ]
    }
   ],
   "source": [
    "## INPUT INITIAL Cl CONCENTRATIONS HERE (PPM)\n",
    "input_dict = {'S':1000,'Cl':1000} \n",
    "\n",
    "for key,val in input_dict.items():\n",
    "    print(key,val)\n",
    "    # initial concentration (ppm) of S and Cl in system\n",
    "    syst_mass['initial_'+ key] = val\n",
    "    \n",
    "    # bulk concentration (ppm) of S and Cl in system \n",
    "    syst_mass['bulk_'+ key +'_ppm'] = syst_mass['initial_'+ key] / syst_mass['melt_f']\n",
    "    \n",
    "    # mass (g) of S and Cl in melt + fluid - ISSUE WITH INCREASING MASS SLIGHTLY\n",
    "    syst_mass['M_bulk_'+ key] = (syst_mass['fluid_cum_sum_H2O'] + syst_mass['mass_Liq'])*(syst_mass['bulk_'+ key +'_ppm']/10**6) \n",
    "\n",
    "    # G; mass fraction of S and Cl in the melt relative to the fluid\n",
    "    syst_mass['G'] = syst_mass['mass_Liq'].div(syst_mass['fluid_cum_sum_H2O'])\n",
    "    syst_mass['G'].replace([np.inf, -np.inf], 0, inplace=True)\n",
    "    \n",
    "    # calc mass of S total and Cu in mixed melt\n",
    "    syst_mass['M_mix_Stot_melt'] = S_g + syst_mass['M_bulk_S']\n",
    "\n",
    "    # check that correct mass of S added to each\n",
    "    mass_bal = (syst_mass['M_mix_Stot_melt'] - syst_mass['M_bulk_S']) /  S_g\n",
    "    \n",
    "    print(mass_bal)"
   ]
  },
  {
   "cell_type": "code",
   "execution_count": 27,
   "metadata": {
    "scrolled": true
   },
   "outputs": [],
   "source": [
    "Kd_dict = {'S':'DS_fm','Cl':'DCl_fm'} \n",
    "for key,val in Kd_dict.items():\n",
    "    \n",
    "    syst_mass[key] = syst_mass[val]  \n",
    "    \n",
    "    # fluid-melt partition coefficient of S or Cl divided by respected G factor\n",
    "    syst_mass[key +'_D/G'] = syst_mass[val].div(syst_mass['G'])\n",
    "    syst_mass[key +'_D/G'].replace([np.inf, -np.inf], 0, inplace=True) \n",
    " \n",
    "    # mass (g) of S and Cl partitioning into fluid\n",
    "    syst_mass['M_fluid_Cl'] = syst_mass['M_bulk_'+ key]*(syst_mass[key +'_D/G'] / (syst_mass[key +'_D/G']+1))\n",
    "    \n",
    "    syst_mass['M_fluid_S'] = syst_mass['M_mix_Stot_melt']*(syst_mass[key +'_D/G'] / (syst_mass[key +'_D/G']+1))\n",
    "    \n",
    "    syst_mass['M_fluid_'+key].replace([np.inf, -np.inf], 0, inplace=True) \n",
    "     \n",
    "    # mass (g) of S and Cl in melt following fluid exsolution\n",
    "    syst_mass['M_melt_Cl'] = syst_mass['M_bulk_Cl'] - syst_mass['M_fluid_Cl']\n",
    "\n",
    "    syst_mass['M_melt_S'] = syst_mass['M_mix_Stot_melt'] - syst_mass['M_fluid_S']\n",
    "        \n",
    "    # check bulk mass (g) of S and Cl in fluid and melt\n",
    "    syst_mass['M_bulk_Cl_check'] = (syst_mass['M_melt_Cl']+syst_mass['M_fluid_Cl']).div(syst_mass['M_bulk_Cl'])\n",
    "    \n",
    "    syst_mass['M_bulk_S_check'] = (syst_mass['M_melt_S']+syst_mass['M_fluid_S']).div(syst_mass['M_mix_Stot_melt'])\n",
    "\n",
    "    # concentration (ppm) of S and Cl in fluid\n",
    "    syst_mass['fluid_'+key+'_ppm'] = 1000000 * syst_mass['M_fluid_'+key].div(syst_mass['fluid_cum_sum_H2O'])#\n",
    "    syst_mass['fluid_'+key+'_ppm'] = syst_mass['fluid_'+key+'_ppm'].fillna(0)\n",
    "\n",
    "    \n",
    "    # concentration (ppm) of S and Cl in melt following fluid exsolution\n",
    "    syst_mass['melt_'+key+'_ppm'] = 1000000 * syst_mass['M_melt_'+key].div(syst_mass['mass_Liq'])\n",
    "    syst_mass['melt_'+key+'_ppm'] = syst_mass['melt_'+key+'_ppm'].fillna(0)\n",
    "  \n",
    "    # Cl molinity of fluid (moles/kg)\n",
    "    syst_mass['mCl_fluid'] = (syst_mass['fluid_Cl_ppm']* 10**-6) / (35*10**-3)\n",
    "    #1000 * (syst_mass['M_fluid_Cl']/35)/syst_mass['fluid_cum_sum_H2O']#\n",
    "    \n",
    "    # mole fraction Cl in fluid\n",
    "    syst_mass['molXCl_fluid'] = 100 * (syst_mass['M_fluid_Cl']/35).div((syst_mass['M_fluid_Cl']/35) + (syst_mass['fluid_cum_sum_H2O']/18))#\n",
    "\n",
    "    # NaCl (wt%) in fluid\n",
    "    syst_mass['NaCl_fluid'] = (syst_mass['fluid_Cl_ppm'] * 10**-4) * (58/35)\n",
    "    #100*(((syst_mass['M_fluid_Cl']/35)*22.99)+syst_mass['M_fluid_Cl'])/syst_mass['fluid_cum_sum_H2O']#\n",
    "    \n",
    "    syst_mass['DCu_fm'] = (30 * (syst_mass['NaCl_fluid'] - 0.4) / 8) + 2"
   ]
  },
  {
   "cell_type": "code",
   "execution_count": 28,
   "metadata": {},
   "outputs": [],
   "source": [
    "import warnings\n",
    "warnings.filterwarnings('ignore', category=pd.core.generic.SettingWithCopyWarning)\n",
    "warnings.filterwarnings('ignore', category=pd.errors.PerformanceWarning)\n",
    "\n",
    "metal_Kd_dict = {'Cu':'DCu_fm'}                 \n",
    "input_metal_dict = {'Cu':75} #'Ag':0.03,'Au':0.0033,'Se':0.14,'Re':0.001,'Te':0.5}\n",
    "\n",
    "for key,val in metal_Kd_dict.items():\n",
    "    #fluid-melt partition coefficient of chalcophile elements\n",
    "    # divided by respected G factor\n",
    "    syst_mass[key + '_D/G'] = syst_mass[val].div(syst_mass['G'])\n",
    "\n",
    "for key,val in input_metal_dict.items():\n",
    "    # initial chalcophile element concentration (ppm)\n",
    "    syst_mass['initial_'+ key] = val\n",
    "    \n",
    "    # bulk chalcophile element concentration (ppm)\n",
    "    syst_mass['bulk_'+ key +'_ppm'] = syst_mass['initial_'+ key] / (syst_mass['melt_f']+ syst_mass['fluid_cum_sum_H2O'])\n",
    "    \n",
    "    # bulk chalcophile element mass (g) \n",
    "    syst_mass['M_bulk_'+ key] = (syst_mass['fluid_cum_sum_H2O'] + syst_mass['mass_Liq'])*(syst_mass['bulk_'+ key +'_ppm']/10**6)\n",
    "     \n",
    "    # calc mass of  Cu in mixed melt\n",
    "    syst_mass['M_mix_Cu_melt'] = Cu_g + syst_mass['M_bulk_Cu']\n",
    "    \n",
    "    # mass chalcophile element in fluid (g)\n",
    "    syst_mass['M_fluid_Cu'] = (syst_mass['M_mix_Cu_melt']*syst_mass[key +'_D/G']) / (syst_mass[key +'_D/G']+1)\n",
    "    syst_mass['M_fluid_Cu'] = syst_mass['M_fluid_Cu'].fillna(0)\n",
    "    \n",
    "    # mass chalcophile element remaining in the melt (g)\n",
    "    syst_mass['M_melt_Cu'] = syst_mass['M_mix_Cu_melt'] - syst_mass['M_fluid_Cu']\n",
    "    \n",
    "    # chalcophile element concentration (ppm) in fluid\n",
    "    syst_mass['fluid_Cu_ppm'] = 1000000 * syst_mass['M_fluid_Cu'].div(syst_mass['fluid_cum_sum_H2O'])#\n",
    "\n",
    "    # chalcophile element concentration (ppm) in melt\n",
    "    syst_mass['melt_Cu_ppm'] = 1000000 * syst_mass['M_melt_Cu'].div(syst_mass['mass_Liq'])\n"
   ]
  },
  {
   "cell_type": "code",
   "execution_count": 29,
   "metadata": {},
   "outputs": [],
   "source": [
    "# chalcophile element sulfide-silicate melt partition coefficients\n",
    "\n",
    "# sulfide liquid - silicate melt partition coeffcient for Cu from Kiseeva and Wood 2015\n",
    "syst_mass['DCu_sl'] = 10**((-0.823 * np.log10(syst_mass['FeOt_Liq'])) + 3.334)\n",
    "\n",
    "# monosulfide solid solution - silicate melt partition coeffcient for Cu from Li and Audetat\n",
    "syst_mass['DCu_mss'] = 10**(1.18+(0.28*(10000/(syst_mass['T_C']+273.15)))+(-0.05*(syst_mass['DeltaQFM_frostbuff']))+(-0.66*np.log10(syst_mass['FeOt_Liq'])))\n",
    "\n",
    "# combined Kd\n",
    "syst_mass['DCu_sulfsil'] = syst_mass.apply(lambda row: row['DCu_sl'] if row['FeOt_Liq'] > 3.6 else row['DCu_mss'], axis=1)"
   ]
  },
  {
   "cell_type": "markdown",
   "metadata": {},
   "source": [
    "## Modeling sulfide saturation "
   ]
  },
  {
   "cell_type": "markdown",
   "metadata": {},
   "source": [
    "We run this section of the code multiple times "
   ]
  },
  {
   "cell_type": "code",
   "execution_count": 30,
   "metadata": {},
   "outputs": [
    {
     "data": {
      "text/plain": [
       "0    1.0\n",
       "1    0.9\n",
       "2    0.8\n",
       "3    0.7\n",
       "4    0.6\n",
       "Name: targets, dtype: float64"
      ]
     },
     "execution_count": 30,
     "metadata": {},
     "output_type": "execute_result"
    }
   ],
   "source": [
    "dfnew = syst_mass.copy()\n",
    "dfnew.targets"
   ]
  },
  {
   "cell_type": "code",
   "execution_count": 31,
   "metadata": {},
   "outputs": [
    {
     "name": "stdout",
     "output_type": "stream",
     "text": [
      "DataFrame final row 1.0:\n",
      " 0.027876098097830048\n",
      "DataFrame final row 0.9:\n",
      " 0.03249279660330177\n",
      "DataFrame final row 0.8:\n",
      " 0.04012996532959241\n",
      "DataFrame final row 0.7:\n",
      " 0.06356182401668738\n",
      "DataFrame final row 0.6:\n",
      " 0.12083957986851349\n"
     ]
    }
   ],
   "source": [
    "# Check that our penultimate column has non NaN values - this is important\n",
    "# for the iteration loop below. \n",
    "for u in dfnew.targets.unique():\n",
    "    syst_mass = dfnew[dfnew['targets'].isin([u])].copy()\n",
    "    print(f\"DataFrame final row {u}:\\n\", syst_mass['S_D/G'].iloc[0])"
   ]
  },
  {
   "cell_type": "code",
   "execution_count": 32,
   "metadata": {
    "scrolled": true
   },
   "outputs": [
    {
     "name": "stdout",
     "output_type": "stream",
     "text": [
      "Iteration 0 condition value: 0.3384436302574233\n",
      "Breaking the loop due to the last value being within 1% of SCSS\n",
      "Iteration 0 condition value: 0.45188621442623816\n",
      "Breaking the loop due to the last value being within 1% of SCSS\n",
      "Iteration 0 condition value: 0.6697908080623549\n",
      "Breaking the loop due to the last value being within 1% of SCSS\n",
      "Iteration 0 condition value: 0.8754397210743577\n",
      "Breaking the loop due to the last value being within 1% of SCSS\n",
      "Iteration 0 condition value: 1.2094629446933909\n",
      "Iteration 1 condition value: 1.1594096548132289\n",
      "Iteration 2 condition value: 1.1240159157548806\n",
      "Iteration 3 condition value: 1.0979447182430597\n",
      "Iteration 4 condition value: 1.0781962379913532\n",
      "Iteration 5 condition value: 1.062933948436101\n",
      "Iteration 6 condition value: 1.0509617979782926\n",
      "Iteration 7 condition value: 1.041463607164678\n",
      "Iteration 8 condition value: 1.0338618256810659\n",
      "Iteration 9 condition value: 1.0277358258226985\n",
      "Iteration 10 condition value: 1.0227720920849814\n",
      "Iteration 11 condition value: 1.01873251237966\n",
      "Iteration 12 condition value: 1.0154334436962493\n",
      "Iteration 13 condition value: 1.0127314542575292\n",
      "Iteration 14 condition value: 1.0105133483649862\n",
      "Iteration 15 condition value: 1.0086890224669298\n",
      "Iteration 16 condition value: 1.0071862433400736\n",
      "Iteration 17 condition value: 1.005946762453363\n",
      "Iteration 18 condition value: 1.0049233791118923\n",
      "Iteration 19 condition value: 1.0040776902752226\n",
      "Iteration 20 condition value: 1.0033783459609196\n",
      "Iteration 21 condition value: 1.0027996826921017\n",
      "Iteration 22 condition value: 1.0023206435591936\n",
      "Iteration 23 condition value: 1.0019239182756043\n",
      "Iteration 24 condition value: 1.0015952539497408\n",
      "Iteration 25 condition value: 1.0013228996173718\n",
      "Iteration 26 condition value: 1.0010971564673754\n",
      "Iteration 27 condition value: 1.0009100121994197\n",
      "Breaking the loop due to the last value being within 1% of SCSS\n",
      "Number of iterations completed for DataFrame 1.0: 1\n",
      "Number of iterations completed for DataFrame 0.9: 1\n",
      "Number of iterations completed for DataFrame 0.8: 1\n",
      "Number of iterations completed for DataFrame 0.7: 1\n",
      "Number of iterations completed for DataFrame 0.6: 1\n"
     ]
    }
   ],
   "source": [
    "# Ignore warnings\n",
    "warnings.filterwarnings('ignore', category=pd.core.generic.SettingWithCopyWarning)\n",
    "warnings.filterwarnings('ignore', category=pd.errors.PerformanceWarning)\n",
    "\n",
    "# Define columns to be filled in this loop and changed\n",
    "dfnew[['melt_S2_ppm', 'satmelt_S2_ppm', 'melt_S6_ppm', 'GG', 'S_sulfide_ppm', 'M_S_sulfide', 'DS_sulfsil',\n",
    "           'M_S_sulf_cumu', 'melt_Stot_ppm', 'M_satmelt_S', 'sulfide_Cu_ppm']] = 0.0\n",
    "\n",
    "# Change depending on model requirements\n",
    "eqbm_dict = {'S': 'M_mix_Stot_melt', 'Cu': 'M_mix_Cu_melt'}\n",
    "metal_sulfide_dict = {'Cu':'DCu_sulfsil'}\n",
    "\n",
    "# Create an empty dictionary to store DataFrames\n",
    "result_dataframes = {}\n",
    "\n",
    "max_iterations = 100  # Set the desired number of iterations\n",
    "\n",
    "for u in dfnew.targets.unique():\n",
    "    syst_mass = dfnew[dfnew['targets'].isin([u])].copy()\n",
    "    \n",
    "    # Initialize a counter for testing\n",
    "    iteration_counter = 0\n",
    "    condition_met = True\n",
    "    \n",
    "    while condition_met: \n",
    "\n",
    "        if iteration_counter == 0:\n",
    "            syst_mass['melt_S2_ppm'] = syst_mass['melt_S_ppm'] * (1 - syst_mass['jugo_s6st'])\n",
    "        else:\n",
    "            syst_mass['melt_S2_ppm'] = syst_mass['new_Cmelt_S2']\n",
    "        # Calculate S_sulfide_ppm and satmelt_S2_ppm\n",
    "        syst_mass['S_sulfide_ppm'] = syst_mass['melt_S2_ppm'].sub(syst_mass['SCSS_OM21']).clip(0)\n",
    "        syst_mass['satmelt_S2_ppm'] = syst_mass['melt_S2_ppm'].sub(syst_mass['S_sulfide_ppm'])\n",
    "\n",
    "        # Calculate M_S_sulfide and M_S_sulf_cumu\n",
    "        syst_mass['M_S_sulfide'] = (syst_mass['mass_Liq'] + syst_mass['fluid_cum_sum_H2O']) * syst_mass['S_sulfide_ppm'] / 10 ** 6\n",
    "        syst_mass['M_S_sulf_cumu'] += syst_mass['M_S_sulfide']\n",
    "\n",
    "        # Calculate melt_S6_ppm\n",
    "        syst_mass['melt_S6_ppm'] = syst_mass['melt_S_ppm'] * syst_mass['jugo_s6st']\n",
    "        syst_mass['melt_S6_ppm'] = syst_mass['melt_S6_ppm'].where(syst_mass['melt_S6_ppm'] < syst_mass['SCAS'], syst_mass['SCAS'])\n",
    "\n",
    "        # Calculate melt_Stot_ppm and M_satmelt_S\n",
    "        syst_mass['melt_Stot_ppm'] = syst_mass['melt_S6_ppm'] + syst_mass['satmelt_S2_ppm']\n",
    "        syst_mass['M_satmelt_S'] = syst_mass['melt_Stot_ppm'] * (syst_mass['mass_Liq'] / 10 ** 6)\n",
    "\n",
    "        # Calculate DS_sulfsil\n",
    "        syst_mass['DS_sulfsil'] = 50 / (syst_mass['melt_Stot_ppm'] / 10000)\n",
    "        \n",
    "\n",
    "        # Calculate GG\n",
    "        syst_mass['GG'] = syst_mass['mass_Liq'] / (3 * syst_mass['M_S_sulfide']).where(syst_mass['M_S_sulfide'] > 0, 0)\n",
    "\n",
    "        # Calculate metal_sulfide_dict\n",
    "        for key, val in metal_sulfide_dict.items():\n",
    "            syst_mass[key + '_D/GG'] = syst_mass[val] / syst_mass['GG'].where(syst_mass['GG'] > 0, 1)\n",
    "\n",
    "            syst_mass['totM_' + key + '_sulfide+melt'] = ((3 * syst_mass['M_S_sulfide']) + syst_mass['mass_Liq']) * syst_mass['melt_' + key + '_ppm'] / 10**6\n",
    "            syst_mass['M_' + key + '_sulfide'] = syst_mass['totM_' + key + '_sulfide+melt'] * syst_mass[key + '_D/GG'] / (syst_mass[key + '_D/GG'] + 1)\n",
    "            syst_mass['M_melt_' + key + '_final'] = syst_mass['totM_' + key + '_sulfide+melt'] - syst_mass['M_' + key + '_sulfide']\n",
    "\n",
    "            # concentration (ppm) of chalcophile element in melt after sulfide phase and fluids formed\n",
    "            syst_mass['melt_'+key+'_ppm_final'] = 1000000 * syst_mass['M_melt_'+key+'_final'].div(syst_mass['mass_Liq'])\n",
    "\n",
    "            syst_mass['sulfide_' + key + '_ppm'] = 1000000 * syst_mass['M_' + key + '_sulfide'] / (2 * syst_mass['M_S_sulfide']).where(syst_mass['M_' + key + '_sulfide'] > 0, 0)\n",
    "\n",
    "\n",
    "            # equilibration steps\n",
    "        syst_mass['Xfluid'] = syst_mass['fluid_cum_sum_H2O'].div(syst_mass['i_M_fluid']+syst_mass['i_M_melt']+syst_mass['i_M_solid'])\n",
    "\n",
    "        syst_mass['Xsulf'] = (2*syst_mass['M_S_sulf_cumu']).div(syst_mass['i_M_fluid']+syst_mass['i_M_melt']+syst_mass['i_M_solid'])\n",
    "\n",
    "        syst_mass['Xmelt'] = syst_mass['mass_Liq'].div(syst_mass['i_M_fluid']+syst_mass['i_M_melt']+syst_mass['i_M_solid'])\n",
    "\n",
    "        syst_mass['Xsolid'] = syst_mass['M_solid'].div(syst_mass['i_M_fluid']+syst_mass['i_M_melt']+syst_mass['i_M_solid'])\n",
    "\n",
    "        syst_mass['Xtotal'] = syst_mass['Xfluid'] + syst_mass['Xsulf'] + syst_mass['Xmelt'] + syst_mass['Xsolid']\n",
    "\n",
    "        syst_mass['Xfluid_norm'] = syst_mass['Xfluid'] / syst_mass['Xtotal']\n",
    "\n",
    "        syst_mass['Xsulf_norm'] = syst_mass['Xsulf'] / syst_mass['Xtotal']\n",
    "\n",
    "        syst_mass['Xmelt_norm'] = syst_mass['Xmelt'] / syst_mass['Xtotal']\n",
    "\n",
    "        syst_mass['Xsolid_norm'] = syst_mass['Xsolid'] / syst_mass['Xtotal']\n",
    "\n",
    "        syst_mass['Xtotal_norm'] = syst_mass['Xtotal'] / syst_mass['Xtotal']\n",
    "\n",
    "        for key, val in eqbm_dict.items():\n",
    "\n",
    "            syst_mass['CiXi_' + key] = (syst_mass[val]) * syst_mass['Xtotal_norm'] #might need div by 10**4\n",
    "\n",
    "            syst_mass['new_Cmelt_' + key] = syst_mass['CiXi_' + key] / (syst_mass['Xmelt_norm'] + (syst_mass['Xfluid_norm'] * syst_mass['D' +key+'_fm']) + (syst_mass['Xsulf_norm'] * syst_mass['D'+key+'_sulfsil']))\n",
    "\n",
    "            syst_mass['new_Cfluid_' + key] = np.where(syst_mass['Xfluid_norm'] == 0, 0,syst_mass['D'+key+'_fm'] * syst_mass['new_Cmelt_' + key])\n",
    "\n",
    "            syst_mass['new_Csulf_' + key] = np.where(syst_mass['Xsulf_norm'] == 0, 0,syst_mass['D'+key+'_sulfsil'] * syst_mass['new_Cmelt_' + key])\n",
    "\n",
    "            syst_mass['new_Mmelt_'+key] = syst_mass['new_Cmelt_'+key] * syst_mass['Xmelt_norm']\n",
    "\n",
    "            syst_mass['new_Mfluid_'+key] = syst_mass['new_Cfluid_'+key] *syst_mass['Xfluid_norm']\n",
    "\n",
    "            syst_mass['new_Msulf_'+key] = syst_mass['new_Csulf_'+key] *syst_mass['Xsulf_norm']\n",
    "\n",
    "            syst_mass['new_tot_mass_check_'+key] = syst_mass['new_Mmelt_'+key] + syst_mass['new_Mfluid_'+key] + syst_mass['new_Msulf_'+key]\n",
    "\n",
    "            syst_mass['new_Cmelt_S2'] = 10**4 * syst_mass['new_Cmelt_S'] * (1 - syst_mass['jugo_s6st'])\n",
    "\n",
    "            syst_mass['condition_check'] = syst_mass['new_Cmelt_S2'] / syst_mass['SCSS_OM21']\n",
    "            \n",
    "            syst_mass['mass_sulfide_added_g'] = CuFeS2_g\n",
    "        print(f\"Iteration {iteration_counter} condition value:\", syst_mass['new_Cmelt_S2'].iloc[0]/(syst_mass['SCSS_OM21'].iloc[0]))\n",
    "\n",
    "        # Check if the last value is within 1% of SCSS\n",
    "        if syst_mass['new_Cmelt_S2'].iloc[0]/syst_mass['SCSS_OM21'].iloc[0] < 1.001:\n",
    "            print(\"Breaking the loop due to the last value being within 1% of SCSS\")\n",
    "            break\n",
    "\n",
    "        # Check the condition for the while loop\n",
    "        condition_met = iteration_counter < max_iterations\n",
    "        iteration_counter += 1\n",
    "    \n",
    "    # Store resulting df in the dictionary\n",
    "    result_dataframes[u] = syst_mass.copy()\n",
    "    \n",
    "# Print the number of iterations completed for each dataframe\n",
    "for key, df in result_dataframes.items():\n",
    "    print(f\"Number of iterations completed for DataFrame {key}: {df.shape[0]}\")\n",
    "\n"
   ]
  },
  {
   "cell_type": "code",
   "execution_count": 33,
   "metadata": {},
   "outputs": [],
   "source": [
    "to_fill = pd.DataFrame() \n",
    "\n",
    "for key in result_dataframes:\n",
    " \n",
    "    new = result_dataframes[key]\n",
    "    \n",
    "    to_fill = pd.concat([to_fill, new], ignore_index=True)"
   ]
  },
  {
   "cell_type": "code",
   "execution_count": 34,
   "metadata": {},
   "outputs": [
    {
     "data": {
      "text/html": [
       "<div>\n",
       "<style scoped>\n",
       "    .dataframe tbody tr th:only-of-type {\n",
       "        vertical-align: middle;\n",
       "    }\n",
       "\n",
       "    .dataframe tbody tr th {\n",
       "        vertical-align: top;\n",
       "    }\n",
       "\n",
       "    .dataframe thead th {\n",
       "        text-align: right;\n",
       "    }\n",
       "</style>\n",
       "<table border=\"1\" class=\"dataframe\">\n",
       "  <thead>\n",
       "    <tr style=\"text-align: right;\">\n",
       "      <th></th>\n",
       "      <th>new_Cmelt_S2</th>\n",
       "      <th>SCSS_OM21</th>\n",
       "    </tr>\n",
       "  </thead>\n",
       "  <tbody>\n",
       "    <tr>\n",
       "      <th>0</th>\n",
       "      <td>455.346128</td>\n",
       "      <td>1345.412019</td>\n",
       "    </tr>\n",
       "    <tr>\n",
       "      <th>1</th>\n",
       "      <td>458.207181</td>\n",
       "      <td>1013.987961</td>\n",
       "    </tr>\n",
       "    <tr>\n",
       "      <th>2</th>\n",
       "      <td>500.727059</td>\n",
       "      <td>747.587236</td>\n",
       "    </tr>\n",
       "    <tr>\n",
       "      <th>3</th>\n",
       "      <td>538.305067</td>\n",
       "      <td>614.896782</td>\n",
       "    </tr>\n",
       "    <tr>\n",
       "      <th>4</th>\n",
       "      <td>451.217202</td>\n",
       "      <td>450.806962</td>\n",
       "    </tr>\n",
       "  </tbody>\n",
       "</table>\n",
       "</div>"
      ],
      "text/plain": [
       "   new_Cmelt_S2    SCSS_OM21\n",
       "0    455.346128  1345.412019\n",
       "1    458.207181  1013.987961\n",
       "2    500.727059   747.587236\n",
       "3    538.305067   614.896782\n",
       "4    451.217202   450.806962"
      ]
     },
     "execution_count": 34,
     "metadata": {},
     "output_type": "execute_result"
    }
   ],
   "source": [
    "to_fill[['new_Cmelt_S2', 'SCSS_OM21']] #check the data to make sure the condition is working"
   ]
  },
  {
   "cell_type": "code",
   "execution_count": 35,
   "metadata": {},
   "outputs": [],
   "source": [
    "# export dataframe containing calculations for addition of X g of sulfide to a mafic melt as you will need to \n",
    "# import these after for plotting below!\n",
    "# for example \n",
    "to_fill.to_csv('6wt%_add0.1g_fluidfix.csv')"
   ]
  },
  {
   "cell_type": "code",
   "execution_count": 36,
   "metadata": {},
   "outputs": [],
   "source": [
    "# re-run the code above, changing the mass of sulfide 'CuFeS2_g' add to the system.\n",
    "# to compare to a system with a different pressure-H2O-QFM combination, select a different value from \n",
    "# buff['unique'].unique() and then re-run the code as you have done for the previous case. "
   ]
  },
  {
   "cell_type": "code",
   "execution_count": 37,
   "metadata": {},
   "outputs": [],
   "source": [
    "# import all data the was run above for the resorption calcs you have done:\n",
    "\n",
    "wet_01 = pd.read_csv('6wt%_add0.1g_fluidfix.csv')\n",
    "\n",
    "# examples below if you added 0.2g to 6wt% H2O model:\n",
    "#wet_02 = pd.read_csv('6wt%_add0.2g_fluidfix.csv')\n",
    "\n",
    "# exmaples below if you added 0.2g to 6wt% H2O model:\n",
    "#dry_01 = pd.read_csv('3wt%_add0.1g_fluidfix.csv')\n",
    "\n",
    "# exmaples below if you added 0.2g to 6wt% H2O model:\n",
    "#dry_02 = pd.read_csv('3wt%_add0.1g_fluidfix.csv')\n"
   ]
  },
  {
   "cell_type": "code",
   "execution_count": 38,
   "metadata": {},
   "outputs": [],
   "source": [
    "# compile to a master dataframe - we will use this for plotting\n",
    "\n",
    "# for the wetter modelled magmas - here we used 6wt% H2O model runs, buff['unique'] = 'P_1000.0_H2O_6.0_QFM1.2'\n",
    "compiled_assim = pd.concat([wet_01], axis=0)#wet_02 - add each of the resorption calc dataframes to the list. \n",
    "\n",
    "# for the drier modelled magmas - here we used 3wt% H2O model runs, buff['unique'] = 'P_1000.0_H2O_3.0_QFM1.2'\n",
    "#compiled_assim_dry = pd.concat([dry_01, dry_02], axis=0)"
   ]
  },
  {
   "cell_type": "code",
   "execution_count": 39,
   "metadata": {
    "scrolled": true
   },
   "outputs": [],
   "source": [
    "melt_fractions = compiled_assim.targets.unique()\n",
    "for i, melt_fraction in enumerate(melt_fractions):\n",
    "    df = compiled_assim[compiled_assim.targets == melt_fraction]\n",
    "    #print(df[['mass_sulfide_added_g','new_Cfluid_Cu','new_Mfluid_Cu']])"
   ]
  },
  {
   "cell_type": "code",
   "execution_count": 41,
   "metadata": {},
   "outputs": [],
   "source": [
    "# run this cell for the 'drier' models you have run i.e. when you have specified a different buff['unique'].unique\n",
    "# at the start of the code\n",
    "# for the drier cases - commented out until you have run them!\n",
    "#for i, melt_fraction in enumerate(melt_fractions):\n",
    "    #df = compiled_assim_dry[compiled_assim_dry.targets == melt_fraction]\n",
    "    #print(df[['mass_sulfide_added_g','new_Cfluid_Cu','new_Mfluid_Cu']])"
   ]
  },
  {
   "cell_type": "code",
   "execution_count": 40,
   "metadata": {
    "scrolled": true
   },
   "outputs": [],
   "source": [
    "# for the wettest case:\n",
    "compiled_assim['%Cu_melt'] =100 * (compiled_assim['new_Mmelt_Cu'].div( compiled_assim['CiXi_Cu'] ))\n",
    "compiled_assim['%Cu_fluid']= 100 * (compiled_assim['new_Mfluid_Cu'].div( compiled_assim['CiXi_Cu'] ))\n",
    "\n",
    "# for the drier cases - commented out until you have run them!\n",
    "#compiled_assim_dry['%Cu_melt'] =100 * (compiled_assim_dry['new_Mmelt_Cu'].div( compiled_assim_dry['CiXi_Cu'] ))\n",
    "#compiled_assim_dry['%Cu_fluid']= 100 * (compiled_assim_dry['new_Mfluid_Cu'].div( compiled_assim_dry['CiXi_Cu'] ))"
   ]
  },
  {
   "cell_type": "code",
   "execution_count": 42,
   "metadata": {
    "scrolled": true
   },
   "outputs": [],
   "source": [
    "# for the wettest case:\n",
    "compiled_assim['%sulfadded'] = 100 * (compiled_assim['mass_sulfide_added_g'].div( compiled_assim['mass_Liq'] ))\n",
    "\n",
    "# for the drier cases - commented out until you have run them!\n",
    "#compiled_assim_dry['%sulfadded'] = 100 * (compiled_assim_dry['mass_sulfide_added_g'].div( compiled_assim_dry['mass_Liq'] ))"
   ]
  },
  {
   "cell_type": "code",
   "execution_count": 44,
   "metadata": {},
   "outputs": [
    {
     "data": {
      "image/png": "[encoded data removed]",
      "text/plain": [
       "<Figure size 576x936 with 3 Axes>"
      ]
     },
     "metadata": {
      "needs_background": "light"
     },
     "output_type": "display_data"
    }
   ],
   "source": [
    "from matplotlib.cm import viridis, cividis\n",
    "from cmcrameri import cm\n",
    "from matplotlib.colors import Normalize\n",
    "import matplotlib.pyplot as plt\n",
    "from matplotlib.lines import Line2D\n",
    "from matplotlib.patches import Patch\n",
    "\n",
    "plt.rcParams[\"font.family\"] = \"Arial\"\n",
    "plt.rcParams[\"font.size\"] = 16\n",
    "melt_fractions = compiled_assim.targets.unique()\n",
    "\n",
    "fig, axs = plt.subplots(3, 1, figsize=(8, 13), sharex=True)\n",
    "\n",
    "# Set up the normalization for the color bar\n",
    "norm = Normalize(vmin=melt_fractions.min(), vmax=melt_fractions.max())\n",
    "sm = plt.cm.ScalarMappable(cmap=cm.berlin, norm=norm)\n",
    "\n",
    "legend_elements = []\n",
    "\n",
    "#plotting the wettest case data\n",
    "for i, melt_fraction in enumerate(melt_fractions):\n",
    "    df = compiled_assim[compiled_assim.targets == melt_fraction]\n",
    "    x = 10*df['mass_sulfide_added_g']\n",
    "    y = df['new_Cmelt_Cu']*10**4\n",
    "    z = 10 * df['new_Mmelt_Cu']\n",
    "    \n",
    "    color = sm.to_rgba(melt_fraction)\n",
    "    line1, = axs[0].plot(x, y, label=f'{melt_fraction}', color=color)\n",
    "    \n",
    "    \n",
    "#plotting drier case data - commented out until you have run some!    \n",
    "    #df3 = compiled_assim_dry[compiled_assim_dry.targets == melt_fraction]\n",
    "    #x = 10*df3['mass_sulfide_added_g']\n",
    "    #y = df3['new_Cmelt_Cu']*10**4\n",
    "    #z = 10 * df3['new_Mmelt_Cu']\n",
    "    #axs[0].plot(x, y, label=f'1 wt% : {melt_fraction}', color=color, linestyle='--')\n",
    "    \n",
    "    \n",
    "#plotting the wettest case data    \n",
    "for i, melt_fraction in enumerate(melt_fractions):\n",
    "    df = compiled_assim[compiled_assim.targets == melt_fraction]\n",
    "    x = 10*df['mass_sulfide_added_g']\n",
    "    y = df['new_Cfluid_Cu']\n",
    "    z = 10 * df['new_Mfluid_Cu']\n",
    "    \n",
    "    color = sm.to_rgba(melt_fraction)\n",
    "    line5, = axs[1].plot(x, y, label=f'6 wt% : {melt_fraction}', color=color)\n",
    "    line6, = axs[2].plot(x, z, color=color)\n",
    "\n",
    "#plotting drier case data - commented out until you have run some!    \n",
    "    #df3 = compiled_assim_dry[compiled_assim_dry.targets == melt_fraction]\n",
    "    #x = 10*df3['mass_sulfide_added_g']\n",
    "    #y = df3['new_Cfluid_Cu']\n",
    "    #z = 10 * df3['new_Mfluid_Cu']\n",
    "    #line7, = axs[1].plot(x, y, label=f'1 wt% : {melt_fraction}', color=color, linestyle='--')\n",
    "    #line8, = axs[2].plot(x, z, color=color, linestyle='--')\n",
    "\n",
    "    # Add legend element for each melt fraction\n",
    "    legend_elements.append(Patch(facecolor=color, edgecolor='black', label=f'{melt_fraction}'))\n",
    "\n",
    "# Add the legend elements for line styles\n",
    "legend_elements += [\n",
    "    Line2D([0], [0], color='black', linestyle='-', label='6 wt%'),\n",
    "    Line2D([0], [0], color='black', linestyle='--', label='3 wt%')\n",
    "]\n",
    "\n",
    "\n",
    "# Add the legend with custom handles\n",
    "axs[1].legend(handles=legend_elements, frameon=True, edgecolor='k', borderpad=0.5, ncol=2, loc='upper left', fontsize=12)\n",
    "\n",
    "#axs[1].set_xlabel('Sulfide Added (g / kg magma)',weight='bold')\n",
    "axs[1].set_ylabel('Cu in fluid (wt%)',weight='bold')\n",
    "axs[1].grid(True, alpha=0.2)\n",
    "axs[1].set_ylim(-0.01,0.31)\n",
    "axs[1].set_yticks([0,0.05,0.1,0.15,0.2,0.25,0.3])\n",
    "\n",
    "axs[2].set_xlabel('Sulfide Added (g / kg magma)',weight='bold')\n",
    "axs[2].set_ylabel('Cu in fluid (g / kg magma)',weight='bold')\n",
    "axs[2].grid(True, alpha=0.2)\n",
    "axs[2].set_ylim(-0.003,0.103)\n",
    " \n",
    "\n",
    "axs[0].set_ylabel('Cu in melt (ppm)',weight='bold')\n",
    "axs[0].grid(True, alpha=0.2)\n",
    "axs[0].set_ylim(-100,3100)\n",
    "\n",
    "\n",
    "\n",
    "# Remove x-axis ticks and labels for the specified subplots\n",
    "axs[0].tick_params(axis='x', which='both', bottom=False, top=False, labelbottom=False)\n",
    "\n",
    "axs[2].set_xticks([1,3,5,7,9])\n",
    "axs[1].set_xticks([1,3,5,7,9])\n",
    "\n",
    "\n",
    "\n",
    "import matplotlib.patches as mpatches        \n",
    "# Create patches and labels for each subplot\n",
    "if axs.ndim == 1:\n",
    "    axs = axs.reshape(3, 1)\n",
    "\n",
    "labels = ['a.', 'b.', 'c.']\n",
    "\n",
    "for i in range(3):\n",
    "    # Create a patch in the upper right corner\n",
    "    ax_row, ax_col = divmod(i, 1)\n",
    "    # Add the label in the upper right corner using ax.annotate\n",
    "    axs[ax_row, ax_col].annotate(f'{labels[i]}', xy=(0.85, 0.85), fontsize=22, xycoords='axes fraction', color='black', weight='bold',zorder=5)\n",
    "\n",
    "plt.subplots_adjust(wspace = 0.18,hspace=0.05)"
   ]
  },
  {
   "cell_type": "code",
   "execution_count": null,
   "metadata": {},
   "outputs": [],
   "source": []
  }
 ],
 "metadata": {
  "kernelspec": {
   "display_name": "Python 3",
   "language": "python",
   "name": "python3"
  },
  "language_info": {
   "codemirror_mode": {
    "name": "ipython",
    "version": 3
   },
   "file_extension": ".py",
   "mimetype": "text/x-python",
   "name": "python",
   "nbconvert_exporter": "python",
   "pygments_lexer": "ipython3",
   "version": "3.8.3"
  }
 },
 "nbformat": 4,
 "nbformat_minor": 4
}
